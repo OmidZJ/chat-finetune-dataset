{
 "cells": [
  {
   "cell_type": "code",
   "execution_count": 10,
   "id": "f78d6087",
   "metadata": {},
   "outputs": [
    {
     "name": "stdout",
     "output_type": "stream",
     "text": [
      "Saved 63 samples in dataset.jsonl\n"
     ]
    }
   ],
   "source": [
    "from bs4 import BeautifulSoup\n",
    "import jsonlines\n",
    "\n",
    "WINDOW_SIZE = 5  # تعداد پیام‌های اخیر قبل از پاسخ تو\n",
    "\n",
    "def parse_html(path):\n",
    "    with open(path, encoding=\"utf-8\") as f:\n",
    "        soup = BeautifulSoup(f, \"html.parser\")\n",
    "\n",
    "    messages = []\n",
    "    for msg in soup.find_all(\"div\", class_=\"body\"):\n",
    "       \n",
    "        if msg.find(\"div\", class_=\"from_name\"):\n",
    "            name_tag = msg.find(\"div\", class_=\"from_name\")\n",
    "\n",
    "        text_tag = msg.find(\"div\", class_=\"text\")\n",
    "        if not text_tag:\n",
    "            continue\n",
    "\n",
    "        sender = name_tag.get_text(strip=True)\n",
    "        text = text_tag.get_text(\" \", strip=True)\n",
    "        if not text: \n",
    "            continue\n",
    "\n",
    "        role = \"Me\" if sender == \"YesImBatMan\" else \"user\"\n",
    "        messages.append({\"role\": role, \"content\": text})\n",
    "    return messages\n",
    "\n",
    "def build_dataset(messages, window_size=WINDOW_SIZE):\n",
    "    dataset = []\n",
    "    for i in range(len(messages)):\n",
    "        if messages[i][\"role\"] == \"Me\":\n",
    "            # جمع کردن n پیام قبلش به عنوان ورودی\n",
    "            context = messages[max(0, i-window_size):i]\n",
    "            # اگر هیچ پیام کاربر نباشه بی‌فایده‌ست\n",
    "            if not any(m[\"role\"]==\"user\" for m in context):\n",
    "                continue\n",
    "            # ساخت ساختار دیتاست\n",
    "            dataset.append({\n",
    "                \"messages\": context + [messages[i]]\n",
    "            })\n",
    "    return dataset\n",
    "\n",
    "if __name__ == \"__main__\":\n",
    "    msgs = parse_html(\"messages.html\")\n",
    "    dataset = build_dataset(msgs, WINDOW_SIZE)\n",
    "\n",
    "    with jsonlines.open(\"dataset.jsonl\", \"w\") as writer:\n",
    "        for d in dataset:\n",
    "            writer.write(d)\n",
    "\n",
    "    print(\"Saved\", len(dataset), \"samples in dataset.jsonl\")\n"
   ]
  },
  {
   "cell_type": "code",
   "execution_count": null,
   "id": "6d678331",
   "metadata": {},
   "outputs": [],
   "source": []
  }
 ],
 "metadata": {
  "kernelspec": {
   "display_name": "graph1",
   "language": "python",
   "name": "python3"
  },
  "language_info": {
   "codemirror_mode": {
    "name": "ipython",
    "version": 3
   },
   "file_extension": ".py",
   "mimetype": "text/x-python",
   "name": "python",
   "nbconvert_exporter": "python",
   "pygments_lexer": "ipython3",
   "version": "3.11.13"
  }
 },
 "nbformat": 4,
 "nbformat_minor": 5
}
